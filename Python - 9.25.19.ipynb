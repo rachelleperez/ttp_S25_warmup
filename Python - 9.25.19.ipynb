{
 "cells": [
  {
   "cell_type": "code",
   "execution_count": null,
   "metadata": {},
   "outputs": [],
   "source": [
    "# THE FOLLOWING CODE DOESN'T RUN. THERE'S 2 ERRORS, CAN YOU FIX THEM?\n",
    "\n",
    "# 17- print every even element of the list, sorted backwards\n",
    "lst = [1,7,2,6,3,5,4,10,9,8,7,6,5,4,3,2,22]\n",
    "lst_even = []\n",
    "for element in lst\n",
    "    if element % 2 = 0:\n",
    "        lst_even.append(element)\n",
    "list(reversed(sorted(lst_even)))"
   ]
  },
  {
   "cell_type": "code",
   "execution_count": 4,
   "metadata": {},
   "outputs": [
    {
     "data": {
      "text/plain": [
       "[22, 10, 8, 6, 6, 4, 4, 2, 2]"
      ]
     },
     "execution_count": 4,
     "metadata": {},
     "output_type": "execute_result"
    }
   ],
   "source": [
    "lst = [1,7,2,6,3,5,4,10,9,8,7,6,5,4,3,2,22]\n",
    "lst_even = []\n",
    "for element in lst:               # missing colon\n",
    "    if element % 2 == 0:          # changed = to == as we are not reassingning element but rather checking if True/False\n",
    "        lst_even.append(element)\n",
    "list(reversed(sorted(lst_even)))"
   ]
  }
 ],
 "metadata": {
  "kernelspec": {
   "display_name": "Python 3",
   "language": "python",
   "name": "python3"
  },
  "language_info": {
   "codemirror_mode": {
    "name": "ipython",
    "version": 3
   },
   "file_extension": ".py",
   "mimetype": "text/x-python",
   "name": "python",
   "nbconvert_exporter": "python",
   "pygments_lexer": "ipython3",
   "version": "3.7.3"
  }
 },
 "nbformat": 4,
 "nbformat_minor": 2
}
